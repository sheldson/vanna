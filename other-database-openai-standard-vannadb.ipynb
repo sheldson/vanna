{
 "cells": [
  {
   "cell_type": "code",
   "execution_count": 1,
   "metadata": {},
   "outputs": [
    {
     "name": "stdout",
     "output_type": "stream",
     "text": [
      "Requirement already satisfied: vanna[openai] in ./venv/lib/python3.11/site-packages (0.6.2)\n",
      "Requirement already satisfied: requests in ./venv/lib/python3.11/site-packages (from vanna[openai]) (2.32.3)\n",
      "Requirement already satisfied: tabulate in ./venv/lib/python3.11/site-packages (from vanna[openai]) (0.9.0)\n",
      "Requirement already satisfied: plotly in ./venv/lib/python3.11/site-packages (from vanna[openai]) (5.22.0)\n",
      "Requirement already satisfied: pandas in ./venv/lib/python3.11/site-packages (from vanna[openai]) (2.2.2)\n",
      "Requirement already satisfied: sqlparse in ./venv/lib/python3.11/site-packages (from vanna[openai]) (0.5.0)\n",
      "Requirement already satisfied: kaleido in ./venv/lib/python3.11/site-packages (from vanna[openai]) (0.2.1)\n",
      "Requirement already satisfied: flask in ./venv/lib/python3.11/site-packages (from vanna[openai]) (3.0.3)\n",
      "Requirement already satisfied: flask-sock in ./venv/lib/python3.11/site-packages (from vanna[openai]) (0.7.0)\n",
      "Requirement already satisfied: sqlalchemy in ./venv/lib/python3.11/site-packages (from vanna[openai]) (2.0.31)\n",
      "Requirement already satisfied: openai in ./venv/lib/python3.11/site-packages (from vanna[openai]) (1.35.3)\n",
      "Requirement already satisfied: Werkzeug>=3.0.0 in ./venv/lib/python3.11/site-packages (from flask->vanna[openai]) (3.0.3)\n",
      "Requirement already satisfied: Jinja2>=3.1.2 in ./venv/lib/python3.11/site-packages (from flask->vanna[openai]) (3.1.4)\n",
      "Requirement already satisfied: itsdangerous>=2.1.2 in ./venv/lib/python3.11/site-packages (from flask->vanna[openai]) (2.2.0)\n",
      "Requirement already satisfied: click>=8.1.3 in ./venv/lib/python3.11/site-packages (from flask->vanna[openai]) (8.1.7)\n",
      "Requirement already satisfied: blinker>=1.6.2 in ./venv/lib/python3.11/site-packages (from flask->vanna[openai]) (1.8.2)\n",
      "Requirement already satisfied: simple-websocket>=0.5.1 in ./venv/lib/python3.11/site-packages (from flask-sock->vanna[openai]) (1.0.0)\n",
      "Requirement already satisfied: anyio<5,>=3.5.0 in ./venv/lib/python3.11/site-packages (from openai->vanna[openai]) (4.4.0)\n",
      "Requirement already satisfied: distro<2,>=1.7.0 in ./venv/lib/python3.11/site-packages (from openai->vanna[openai]) (1.9.0)\n",
      "Requirement already satisfied: httpx<1,>=0.23.0 in ./venv/lib/python3.11/site-packages (from openai->vanna[openai]) (0.27.0)\n",
      "Requirement already satisfied: pydantic<3,>=1.9.0 in ./venv/lib/python3.11/site-packages (from openai->vanna[openai]) (2.7.4)\n",
      "Requirement already satisfied: sniffio in ./venv/lib/python3.11/site-packages (from openai->vanna[openai]) (1.3.1)\n",
      "Requirement already satisfied: tqdm>4 in ./venv/lib/python3.11/site-packages (from openai->vanna[openai]) (4.66.4)\n",
      "Requirement already satisfied: typing-extensions<5,>=4.7 in ./venv/lib/python3.11/site-packages (from openai->vanna[openai]) (4.12.2)\n",
      "Requirement already satisfied: numpy>=1.23.2 in ./venv/lib/python3.11/site-packages (from pandas->vanna[openai]) (2.0.0)\n",
      "Requirement already satisfied: python-dateutil>=2.8.2 in ./venv/lib/python3.11/site-packages (from pandas->vanna[openai]) (2.9.0.post0)\n",
      "Requirement already satisfied: pytz>=2020.1 in ./venv/lib/python3.11/site-packages (from pandas->vanna[openai]) (2024.1)\n",
      "Requirement already satisfied: tzdata>=2022.7 in ./venv/lib/python3.11/site-packages (from pandas->vanna[openai]) (2024.1)\n",
      "Requirement already satisfied: tenacity>=6.2.0 in ./venv/lib/python3.11/site-packages (from plotly->vanna[openai]) (8.4.1)\n",
      "Requirement already satisfied: packaging in ./venv/lib/python3.11/site-packages (from plotly->vanna[openai]) (24.1)\n",
      "Requirement already satisfied: charset-normalizer<4,>=2 in ./venv/lib/python3.11/site-packages (from requests->vanna[openai]) (3.3.2)\n",
      "Requirement already satisfied: idna<4,>=2.5 in ./venv/lib/python3.11/site-packages (from requests->vanna[openai]) (3.7)\n",
      "Requirement already satisfied: urllib3<3,>=1.21.1 in ./venv/lib/python3.11/site-packages (from requests->vanna[openai]) (2.2.2)\n",
      "Requirement already satisfied: certifi>=2017.4.17 in ./venv/lib/python3.11/site-packages (from requests->vanna[openai]) (2024.6.2)\n",
      "Requirement already satisfied: httpcore==1.* in ./venv/lib/python3.11/site-packages (from httpx<1,>=0.23.0->openai->vanna[openai]) (1.0.5)\n",
      "Requirement already satisfied: h11<0.15,>=0.13 in ./venv/lib/python3.11/site-packages (from httpcore==1.*->httpx<1,>=0.23.0->openai->vanna[openai]) (0.14.0)\n",
      "Requirement already satisfied: MarkupSafe>=2.0 in ./venv/lib/python3.11/site-packages (from Jinja2>=3.1.2->flask->vanna[openai]) (2.1.5)\n",
      "Requirement already satisfied: annotated-types>=0.4.0 in ./venv/lib/python3.11/site-packages (from pydantic<3,>=1.9.0->openai->vanna[openai]) (0.7.0)\n",
      "Requirement already satisfied: pydantic-core==2.18.4 in ./venv/lib/python3.11/site-packages (from pydantic<3,>=1.9.0->openai->vanna[openai]) (2.18.4)\n",
      "Requirement already satisfied: six>=1.5 in ./venv/lib/python3.11/site-packages (from python-dateutil>=2.8.2->pandas->vanna[openai]) (1.16.0)\n",
      "Requirement already satisfied: wsproto in ./venv/lib/python3.11/site-packages (from simple-websocket>=0.5.1->flask-sock->vanna[openai]) (1.2.0)\n",
      "\n",
      "\u001b[1m[\u001b[0m\u001b[34;49mnotice\u001b[0m\u001b[1;39;49m]\u001b[0m\u001b[39;49m A new release of pip is available: \u001b[0m\u001b[31;49m23.2.1\u001b[0m\u001b[39;49m -> \u001b[0m\u001b[32;49m24.1\u001b[0m\n",
      "\u001b[1m[\u001b[0m\u001b[34;49mnotice\u001b[0m\u001b[1;39;49m]\u001b[0m\u001b[39;49m To update, run: \u001b[0m\u001b[32;49mpip install --upgrade pip\u001b[0m\n",
      "Note: you may need to restart the kernel to use updated packages.\n"
     ]
    }
   ],
   "source": [
    "%pip install 'vanna[openai]'"
   ]
  },
  {
   "cell_type": "code",
   "execution_count": 2,
   "metadata": {},
   "outputs": [],
   "source": [
    "from dotenv import load_dotenv\n",
    "import os\n",
    "from vanna.openai import OpenAI_Chat\n",
    "from vanna.vannadb import VannaDB_VectorStore\n",
    "import requests\n",
    "import pandas as pd\n",
    "import json"
   ]
  },
  {
   "cell_type": "code",
   "execution_count": 3,
   "metadata": {},
   "outputs": [
    {
     "data": {
      "text/plain": [
       "True"
      ]
     },
     "execution_count": 3,
     "metadata": {},
     "output_type": "execute_result"
    }
   ],
   "source": [
    "\n",
    "\n",
    "# 加载 .env 文件中的环境变量\n",
    "load_dotenv()"
   ]
  },
  {
   "cell_type": "code",
   "execution_count": 4,
   "metadata": {},
   "outputs": [],
   "source": [
    "class MyVanna(VannaDB_VectorStore, OpenAI_Chat):\n",
    "    def __init__(self, config=None):\n",
    "        MY_VANNA_MODEL = os.getenv('MY_VANNA_MODEL')\n",
    "        VANNA_API_KEY = os.getenv('VANNA_API_KEY')\n",
    "        VannaDB_VectorStore.__init__(self, vanna_model=MY_VANNA_MODEL, vanna_api_key=VANNA_API_KEY, config=config)\n",
    "        OpenAI_Chat.__init__(self, config=config)\n",
    "\n",
    "    def connect_to_custom_api(self, token: str, project: str):\n",
    "        def run_sql_custom_api(sql: str) -> pd.DataFrame:\n",
    "            url = 'http://dataapi.epian1.com/api/sql/query'\n",
    "            params = {\n",
    "                'token': token,\n",
    "                'project': project\n",
    "            }\n",
    "            data = {\n",
    "                'q': sql,\n",
    "                'format': 'json'\n",
    "            }\n",
    "            response = requests.post(url, params=params, data=data)\n",
    "            response.raise_for_status()  # 如果请求失败会抛出异常\n",
    "            \n",
    "            # 解析返回的 JSON 数据，每行是一个 JSON 对象\n",
    "            data_lines = response.text.splitlines()\n",
    "            data = [json.loads(line) for line in data_lines]\n",
    "            \n",
    "            # 将解析的数据转换为 DataFrame\n",
    "            df = pd.DataFrame(data)\n",
    "            return df\n",
    "\n",
    "        self.dialect = \"Custom API SQL\"\n",
    "        self.run_sql = run_sql_custom_api\n",
    "        self.run_sql_is_set = True\n",
    "\n",
    "\n",
    "\n",
    "vn = MyVanna(config={\n",
    "    'api_key': os.getenv('OPENAI_API_KEY') , # 从环境变量中获取 API Key\n",
    "    'model': 'gpt-4o'\n",
    "})\n",
    "\n",
    "vn.connect_to_custom_api(\n",
    "    token=os.getenv('TOKEN'),\n",
    "    project=os.getenv('PROJECT')\n",
    ")"
   ]
  },
  {
   "cell_type": "code",
   "execution_count": 5,
   "metadata": {},
   "outputs": [
    {
     "name": "stdout",
     "output_type": "stream",
     "text": [
      "                      date distinct_id           event\n",
      "0  2024-06-25 00:00:00.000    11505104  content_create\n",
      "1  2024-06-25 00:00:00.000   499522428  content_create\n",
      "2  2024-06-25 00:00:00.000    77059920  content_create\n",
      "3  2024-06-25 00:00:00.000    12165588  content_create\n",
      "4  2024-06-25 00:00:00.000     8514025  content_create\n",
      "5  2024-06-25 00:00:00.000     9344090  content_create\n",
      "6  2024-06-25 00:00:00.000    54817207  content_create\n",
      "7  2024-06-25 00:00:00.000     1526693  content_create\n",
      "8  2024-06-25 00:00:00.000    13522922  content_create\n",
      "9  2024-06-25 00:00:00.000    67343298  content_create\n"
     ]
    }
   ],
   "source": [
    "\n",
    "# 运行 SQL 查询\n",
    "sql_query = '''\n",
    "SELECT date, event, distinct_id \n",
    "FROM events \n",
    "WHERE event = 'content_create' \n",
    "LIMIT 10\n",
    "'''\n",
    "test_data = vn.run_sql(sql_query)\n",
    "print(test_data)"
   ]
  },
  {
   "cell_type": "code",
   "execution_count": 6,
   "metadata": {},
   "outputs": [
    {
     "name": "stdout",
     "output_type": "stream",
     "text": [
      "Your app is running at:\n",
      "http://localhost:8084\n",
      " * Serving Flask app 'vanna.flask'\n",
      " * Debug mode: on\n",
      "[]\n"
     ]
    }
   ],
   "source": [
    "from vanna.flask import VannaFlaskApp\n",
    "app = VannaFlaskApp(vn)\n",
    "app.run()"
   ]
  },
  {
   "cell_type": "code",
   "execution_count": null,
   "metadata": {},
   "outputs": [],
   "source": []
  }
 ],
 "metadata": {
  "kernelspec": {
   "display_name": "venv",
   "language": "python",
   "name": "python3"
  },
  "language_info": {
   "codemirror_mode": {
    "name": "ipython",
    "version": 3
   },
   "file_extension": ".py",
   "mimetype": "text/x-python",
   "name": "python",
   "nbconvert_exporter": "python",
   "pygments_lexer": "ipython3",
   "version": "3.11.5"
  }
 },
 "nbformat": 4,
 "nbformat_minor": 2
}

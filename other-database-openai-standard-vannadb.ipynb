{
 "cells": [
  {
   "cell_type": "code",
   "execution_count": null,
   "metadata": {},
   "outputs": [],
   "source": [
    "%pip install 'vanna[openai]'"
   ]
  },
  {
   "cell_type": "code",
   "execution_count": null,
   "metadata": {},
   "outputs": [],
   "source": [
    "from dotenv import load_dotenv\n",
    "import os\n",
    "from vanna.openai import OpenAI_Chat\n",
    "from vanna.vannadb import VannaDB_VectorStore\n",
    "import requests\n",
    "import pandas as pd\n",
    "import json"
   ]
  },
  {
   "cell_type": "code",
   "execution_count": null,
   "metadata": {},
   "outputs": [],
   "source": [
    "\n",
    "\n",
    "# 加载 .env 文件中的环境变量\n",
    "load_dotenv()"
   ]
  },
  {
   "cell_type": "code",
   "execution_count": null,
   "metadata": {},
   "outputs": [],
   "source": [
    "class MyVanna(VannaDB_VectorStore, OpenAI_Chat):\n",
    "    def __init__(self, config=None):\n",
    "        MY_VANNA_MODEL = os.getenv('MY_VANNA_MODEL')\n",
    "        VANNA_API_KEY = os.getenv('VANNA_API_KEY')\n",
    "        VannaDB_VectorStore.__init__(self, vanna_model=MY_VANNA_MODEL, vanna_api_key=VANNA_API_KEY, config=config)\n",
    "        OpenAI_Chat.__init__(self, config=config)\n",
    "\n",
    "    def connect_to_custom_api(self, token: str, project: str):\n",
    "        def run_sql_custom_api(sql: str) -> pd.DataFrame:\n",
    "            url = 'http://dataapi.epian1.com/api/sql/query'\n",
    "            params = {\n",
    "                'token': token,\n",
    "                'project': project\n",
    "            }\n",
    "            data = {\n",
    "                'q': sql,\n",
    "                'format': 'json'\n",
    "            }\n",
    "            response = requests.post(url, params=params, data=data)\n",
    "            response.raise_for_status()  # 如果请求失败会抛出异常\n",
    "            \n",
    "            # 解析返回的 JSON 数据，每行是一个 JSON 对象\n",
    "            data_lines = response.text.splitlines()\n",
    "            data = [json.loads(line) for line in data_lines]\n",
    "            \n",
    "            # 将解析的数据转换为 DataFrame\n",
    "            df = pd.DataFrame(data)\n",
    "            return df\n",
    "\n",
    "        self.dialect = \"Custom API SQL\"\n",
    "        self.run_sql = run_sql_custom_api\n",
    "        self.run_sql_is_set = True\n",
    "\n",
    "\n",
    "\n",
    "vn = MyVanna(config={\n",
    "    'api_key': os.getenv('OPENAI_API_KEY') , # 从环境变量中获取 API Key\n",
    "    'model': 'gpt-4o'\n",
    "})\n",
    "\n",
    "vn.connect_to_custom_api(\n",
    "    token=os.getenv('TOKEN'),\n",
    "    project=os.getenv('PROJECT')\n",
    ")"
   ]
  },
  {
   "cell_type": "code",
   "execution_count": null,
   "metadata": {},
   "outputs": [],
   "source": [
    "\n",
    "# 运行 SQL 查询\n",
    "sql_query = '''\n",
    "SELECT date, event, distinct_id \n",
    "FROM events \n",
    "WHERE event = 'content_create' \n",
    "LIMIT 10\n",
    "'''\n",
    "test_data = vn.run_sql(sql_query)\n",
    "print(test_data)"
   ]
  },
  {
   "cell_type": "code",
   "execution_count": null,
   "metadata": {},
   "outputs": [],
   "source": [
    "from vanna.flask import VannaFlaskApp\n",
    "app = VannaFlaskApp(vn)\n",
    "app.run()"
   ]
  },
  {
   "cell_type": "code",
   "execution_count": null,
   "metadata": {},
   "outputs": [],
   "source": []
  }
 ],
 "metadata": {
  "kernelspec": {
   "display_name": "venv",
   "language": "python",
   "name": "python3"
  },
  "language_info": {
   "codemirror_mode": {
    "name": "ipython",
    "version": 3
   },
   "file_extension": ".py",
   "mimetype": "text/x-python",
   "name": "python",
   "nbconvert_exporter": "python",
   "pygments_lexer": "ipython3",
   "version": "3.11.5"
  }
 },
 "nbformat": 4,
 "nbformat_minor": 2
}
